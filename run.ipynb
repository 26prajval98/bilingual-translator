{
  "cells": [
    {
      "cell_type": "code",
      "execution_count": 34,
      "outputs": [
        {
          "name": "stdout",
          "text": [
            "E:\\NITK\\6th Sem\\Computer Graphics\\kannada-rocks data.json\n"
          ],
          "output_type": "stream"
        }
      ],
      "source": "from kannadautils import *\nimport os\n\nF \u003d \"data.json\"\nmodel \u003d load_json(os.getcwd(), F)\n\n",
      "metadata": {
        "pycharm": {
          "metadata": false,
          "name": "#%%\n",
          "is_executing": false
        }
      }
    },
    {
      "cell_type": "code",
      "execution_count": 35,
      "outputs": [],
      "source": "for w1_w2 in model:\n    total_count \u003d float(sum(model[w1_w2].values()))\n    for w3 in model[w1_w2]:\n        model[w1_w2][w3] /\u003d total_count\n",
      "metadata": {
        "pycharm": {
          "metadata": false,
          "name": "#%%\n",
          "is_executing": false
        }
      }
    },
    {
      "cell_type": "code",
      "execution_count": 36,
      "outputs": [
        {
          "name": "stdout",
          "text": [
            "ಅನಂತರ ಮಾಲ್ಪಿಜಿ ಅದೇ ಎ ಮುಂತಾದವರ ಈ ವಿಜ್ಞಾನಿಗಳ ಸತತ ಸೂಕ್ಷ್ಮದರ್ಶಕಗಳು ಇಂದು ಬಹಳಷ್ಟು ಸುಧಾರಿತ ಆಗಿವೆ null\n"
          ],
          "output_type": "stream"
        }
      ],
      "source": "import random\n\ntext \u003d [None, None]\n \nsentence_finished \u003d False\n \nwhile not sentence_finished:\n    r \u003d random.random()\n    accumulator \u003d .0\n     \n    if len(model[tuple(text[-2:])].keys()) \u003d\u003d 0:\n        break\n    for word in model[tuple(text[-2:])].keys():\n        accumulator +\u003d model[tuple(text[-2:])][word]\n \n        if accumulator \u003e\u003d r:\n            text.append(word)\n            break\n \n    if text[-2:] \u003d\u003d [None, None]:\n        sentence_finished \u003d True\n \nprint(\u0027 \u0027.join([t for t in text if t]))\n",
      "metadata": {
        "pycharm": {
          "metadata": false,
          "name": "#%%\n",
          "is_executing": false
        }
      }
    },
    {
      "cell_type": "code",
      "execution_count": 37,
      "outputs": [],
      "source": "def calculate_prob(t_a, m):\n    t \u003d [None, None]\n    prob \u003d 1\n    for ww in t_a:\n        prob_t \u003d m[tuple(t)].get(ww, None)\n        if prob_t is None:\n            prob *\u003d 10 ** -10\n        t.append(ww)\n    return prob\n",
      "metadata": {
        "pycharm": {
          "metadata": false,
          "name": "#%%\n",
          "is_executing": false
        }
      }
    },
    {
      "cell_type": "code",
      "execution_count": 42,
      "outputs": [
        {
          "name": "stdout",
          "text": [
            "New sentence :  [\u0027ಸುಡು\u0027]\n"
          ],
          "output_type": "stream"
        }
      ],
      "source": "sentence \u003d \"roast\"\nsentence_array \u003d sentence.split(\" \")\n\nidx, word \u003d return_english(sentence_array)\n\nif idx !\u003d -1:\n    words \u003d get_kannada_word(word)\n    p \u003d - 100\n    chosen_word \u003d \"\"\n    t_array \u003d sentence_array[:]\n    for w in words:\n        t_array[idx] \u003d w\n        t \u003d calculate_prob(t_array, model)\n        if t \u003e p:\n            t \u003d p\n            chosen_word \u003d w\n    \n    t_array[idx] \u003d chosen_word\n    print(\"New sentence : \", t_array)",
      "metadata": {
        "pycharm": {
          "metadata": false,
          "name": "#%%    \n",
          "is_executing": false
        }
      }
    }
  ],
  "metadata": {
    "language_info": {
      "codemirror_mode": {
        "name": "ipython",
        "version": 2
      },
      "file_extension": ".py",
      "mimetype": "text/x-python",
      "name": "python",
      "nbconvert_exporter": "python",
      "pygments_lexer": "ipython2",
      "version": "2.7.6"
    },
    "kernelspec": {
      "name": "python3",
      "language": "python",
      "display_name": "Python 3"
    },
    "stem_cell": {
      "cell_type": "raw",
      "source": "",
      "metadata": {
        "pycharm": {
          "metadata": false
        }
      }
    }
  },
  "nbformat": 4,
  "nbformat_minor": 0
}