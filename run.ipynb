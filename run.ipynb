{
  "cells": [
    {
      "cell_type": "code",
      "execution_count": 1,
      "outputs": [],
      "source": "from kannadautils import *\nimport os\n\nF \u003d \"data.json\"\nmodel \u003d load_json(os.getcwd(), F)\n\n",
      "metadata": {
        "pycharm": {
          "metadata": false,
          "name": "#%%\n",
          "is_executing": false
        }
      }
    },
    {
      "cell_type": "code",
      "execution_count": 2,
      "outputs": [],
      "source": "for w1_w2 in model:\n    total_count \u003d float(sum(model[w1_w2].values()))\n    for w3 in model[w1_w2]:\n        model[w1_w2][w3] /\u003d total_count\n",
      "metadata": {
        "pycharm": {
          "metadata": false,
          "name": "#%%\n",
          "is_executing": false
        }
      }
    },
    {
      "cell_type": "code",
      "execution_count": 3,
      "outputs": [
        {
          "name": "stdout",
          "text": [
            "ರಂಜನಭಟ್ಟ ಹೊಸದಿಲ್ಲಿ ನವೆಂಬರ್ ಭಾಗ ಹೊಸ ಹಳೆಯ ಕೊಲಂಬಸನ - ಆವೇಗದ ನಾಡು ಟಾಹೋ - ನಾಡಿನ ಕಾಣದ ಕುಬೇರ null\n"
          ],
          "output_type": "stream"
        }
      ],
      "source": "import random\n\ntext \u003d [None, None]\n \nsentence_finished \u003d False\n \nwhile not sentence_finished:\n    r \u003d random.random()\n    accumulator \u003d .0\n     \n    if len(model[tuple(text[-2:])].keys()) \u003d\u003d 0:\n        break\n    for word in model[tuple(text[-2:])].keys():\n        accumulator +\u003d model[tuple(text[-2:])][word]\n \n        if accumulator \u003e\u003d r:\n            text.append(word)\n            break\n \n    if text[-2:] \u003d\u003d [None, None]:\n        sentence_finished \u003d True\n \nprint(\u0027 \u0027.join([t for t in text if t]))\n",
      "metadata": {
        "pycharm": {
          "metadata": false,
          "name": "#%%\n",
          "is_executing": false
        }
      }
    },
    {
      "cell_type": "code",
      "execution_count": 4,
      "outputs": [],
      "source": "sentence \u003d \"\"\nupdated \u003d get_sentence(sentence, model)\nprint(updated)",
      "metadata": {
        "pycharm": {
          "metadata": false,
          "name": "#%%\n",
          "is_executing": false
        }
      }
    }
  ],
  "metadata": {
    "language_info": {
      "codemirror_mode": {
        "name": "ipython",
        "version": 2
      },
      "file_extension": ".py",
      "mimetype": "text/x-python",
      "name": "python",
      "nbconvert_exporter": "python",
      "pygments_lexer": "ipython2",
      "version": "2.7.6"
    },
    "kernelspec": {
      "name": "python3",
      "language": "python",
      "display_name": "Python 3"
    },
    "stem_cell": {
      "cell_type": "raw",
      "source": "",
      "metadata": {
        "pycharm": {
          "metadata": false
        }
      }
    }
  },
  "nbformat": 4,
  "nbformat_minor": 0
}