{
  "cells": [
    {
      "cell_type": "code",
      "execution_count": 1,
      "outputs": [
        {
          "name": "stdout",
          "text": [
            "E:\\NITK\\6th Sem\\Computer Graphics\\kannada-rocks data.json\n"
          ],
          "output_type": "stream"
        }
      ],
      "source": "from kannadautils import *\nimport os\n\nF \u003d \"data.json\"\nmodel \u003d load_json(os.getcwd(), F)\n\n",
      "metadata": {
        "pycharm": {
          "metadata": false,
          "name": "#%%\n",
          "is_executing": false
        }
      }
    },
    {
      "cell_type": "code",
      "execution_count": 5,
      "outputs": [],
      "source": "for w1_w2 in model:\n    total_count \u003d float(sum(model[w1_w2].values()))\n    for w3 in model[w1_w2]:\n        model[w1_w2][w3] /\u003d total_count\n",
      "metadata": {
        "pycharm": {
          "metadata": false,
          "name": "#%%\n",
          "is_executing": false
        }
      }
    },
    {
      "cell_type": "code",
      "execution_count": 7,
      "outputs": [
        {
          "name": "stdout",
          "text": [
            "ಈ ಧಾರ್ಮಿಕ ಮತ್ತು ಸ್ಥಳಗಳಲ್ಲಿ ದೇವದುರ್ಗ ಗಬ್ಯರು ಗಂಗಾವತಿ ಕನಕಗಿರಿ ಯರಡೋಣ ಆನೆಗೊಂದಿ ಕುಷ್ಟಗಿ ಪುರ ತಾಲ್ಲೂಕಿನ ದೇವರಭೂಪುರ ಜಲದುರ್ಗ ಮಸ್ಕಿ ಮತ್ತು ಮುದುವಾಳ ಮಾನ್ವಿ ಕೋಟಿಕಲ್ಲು ತಾಲ್ಲೂಕಿನ ದೇವರಸೊಗೂರ ಕಡ್ಲೂರು ರಾಮಗಡ್ಡೆ ಕೊರ್ವಷ ಗಾಣದಳ ಸಿಂಧನೂರು ಬಳಗನೂರು ಜಾತ್ರೆ ಕೊಪ್ಪಳದ ಗವಿಸಿದ್ಧೇಶ್ವರ ಗಂಗಾವತಿ ಕನಕಗಿರಿ ಯಲಬುರ್ಗಾ ಮಂಗಳೂರಿನ ಜಾತ್ರೆ ಪ್ರಸಿದ್ಧ ಆಗಿದೆ null\n"
          ],
          "output_type": "stream"
        }
      ],
      "source": "import random\n\ntext \u003d [None, None]\n \nsentence_finished \u003d False\n \nwhile not sentence_finished:\n    r \u003d random.random()\n    accumulator \u003d .0\n     \n    if len(model[tuple(text[-2:])].keys()) \u003d\u003d 0:\n        break\n    for word in model[tuple(text[-2:])].keys():\n        accumulator +\u003d model[tuple(text[-2:])][word]\n \n        if accumulator \u003e\u003d r:\n            text.append(word)\n            break\n \n    if text[-2:] \u003d\u003d [None, None]:\n        sentence_finished \u003d True\n \nprint(\u0027 \u0027.join([t for t in text if t]))\n",
      "metadata": {
        "pycharm": {
          "metadata": false,
          "name": "#%%\n",
          "is_executing": false
        }
      }
    },
    {
      "cell_type": "code",
      "execution_count": null,
      "outputs": [],
      "source": "\nsentence \u003d \"\"\nsentence_array \u003d sentence.split(\" \")\n\nidx, word \u003d return_english(sentence)\n\nif idx !\u003d -1:\n    words \u003d get_kannada_word(word)\n",
      "metadata": {
        "pycharm": {
          "metadata": false,
          "name": "#%%\n"
        }
      }
    }
  ],
  "metadata": {
    "language_info": {
      "codemirror_mode": {
        "name": "ipython",
        "version": 2
      },
      "file_extension": ".py",
      "mimetype": "text/x-python",
      "name": "python",
      "nbconvert_exporter": "python",
      "pygments_lexer": "ipython2",
      "version": "2.7.6"
    },
    "kernelspec": {
      "name": "python3",
      "language": "python",
      "display_name": "Python 3"
    },
    "stem_cell": {
      "cell_type": "raw",
      "source": "",
      "metadata": {
        "pycharm": {
          "metadata": false
        }
      }
    }
  },
  "nbformat": 4,
  "nbformat_minor": 0
}