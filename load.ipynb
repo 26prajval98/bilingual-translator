{
 "cells": [
  {
   "cell_type": "code",
   "execution_count": 22,
   "metadata": {
    "collapsed": true
   },
   "outputs": [],
   "source": [
    "import io\n",
    "import os\n",
    "import numpy as np\n",
    "os.chdir(r\"E:\\NITK\\6th Sem\\Computer Graphics\\kannada-rocks\")\n"
   ]
  },
  {
   "cell_type": "code",
   "execution_count": 23,
   "metadata": {
    "collapsed": true
   },
   "outputs": [],
   "source": [
    "fin = io.open(\"data.vec\", 'r', encoding='utf-8', newline='\\n', errors='ignore')\n",
    "n, d = map(int, fin.readline().split())\n",
    "sentence = \"ನನ್ನ ಹೆಸರು ಅಖಿಲ್\"\n",
    "tList = {x: {\"p\": 0, \"data\": np.array([])} for x in sentence.split(\" \")}\n"
   ]
  },
  {
   "cell_type": "code",
   "execution_count": 27,
   "metadata": {},
   "outputs": [
    {
     "name": "stdout",
     "output_type": "stream",
     "text": [
      "True\n"
     ]
    }
   ],
   "source": [
    "for line in fin:\n",
    "    tokens = line.rstrip().split(' ')\n",
    "    if tokens[0] in tList.keys():\n",
    "        tList[tokens[0]][\"p\"] = 1\n",
    "        tList[tokens[0]][\"data\"] = np.array(tokens[1:])\n",
    "\n",
    "    done = True\n",
    "    for x in tList.keys():\n",
    "        if tList[x][\"p\"] == 0:\n",
    "            done = False\n",
    "\n",
    "    if done:\n",
    "        break\n",
    "\n",
    "print(done)"
   ]
  },
  {
   "cell_type": "code",
   "execution_count": 28,
   "metadata": {},
   "outputs": [
    {
     "name": "stdout",
     "output_type": "stream",
     "text": [
      "(300,)\n"
     ]
    }
   ],
   "source": [
    "arr = []\n",
    "\n",
    "for s in sentence.split():\n",
    "    arr.append(tList[s][\"data\"])\n",
    "\n",
    "print(np.shape(arr[0]))\n"
   ]
  },
  {
   "cell_type": "code",
   "execution_count": null,
   "metadata": {},
   "outputs": [],
   "source": []
  }
 ],
 "metadata": {
  "kernelspec": {
   "display_name": "Python 2",
   "language": "python",
   "name": "python2"
  },
  "language_info": {
   "codemirror_mode": {
    "name": "ipython",
    "version": 2
   },
   "file_extension": ".py",
   "mimetype": "text/x-python",
   "name": "python",
   "nbconvert_exporter": "python",
   "pygments_lexer": "ipython2",
   "version": "2.7.6"
  }
 },
 "nbformat": 4,
 "nbformat_minor": 0
}
