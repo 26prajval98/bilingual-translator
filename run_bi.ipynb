{
  "cells": [
    {
      "cell_type": "code",
      "execution_count": 1,
      "outputs": [],
      "source": "from kannadautils import *\nimport os\n\nF \u003d \"data_bi.json\"\nmodel \u003d load_json_bi(os.getcwd(), F)\n",
      "metadata": {
        "pycharm": {
          "metadata": false,
          "name": "#%%\n",
          "is_executing": false
        }
      }
    },
    {
      "cell_type": "code",
      "execution_count": 2,
      "outputs": [],
      "source": "for w1_w2 in model:\n    total_count \u003d float(sum(model[w1_w2].values()))\n    for w3 in model[w1_w2]:\n        model[w1_w2][w3] /\u003d total_count\n",
      "metadata": {
        "pycharm": {
          "metadata": false,
          "name": "#%%\n",
          "is_executing": false
        }
      }
    },
    {
      "cell_type": "code",
      "execution_count": 3,
      "outputs": [
        {
          "name": "stdout",
          "text": [
            "{\u0027ಬಲೆ\u0027: 1.0}\n"
          ],
          "output_type": "stream"
        }
      ],
      "source": "print(model[\"ಹಿಡಿಯೋಕೆ\"])\n\n",
      "metadata": {
        "pycharm": {
          "metadata": false,
          "name": "#%%\n",
          "is_executing": false
        }
      }
    },
    {
      "cell_type": "code",
      "execution_count": 4,
      "outputs": [
        {
          "name": "stdout",
          "text": [
            "ಅವು ಯಾವುವು ಎಂದರೆ ಪರಿಶೋಧನೆ ಮತ್ತು ಸ್ಥಳಗಳಲ್ಲಿ ದೇವದುರ್ಗ ಗಬ್ಯರು ತಾಲ್ಲೂಕಿನ ಗಬ್ಯರು ಗಂಗಾವತಿ ಕನಕಗಿರಿ ಯರಡೋಣ ಆನೆಗೊಂದಿ ತಾಲ್ಲೂಕಿನ ಬಳಗನೂರು ಜಾತ್ರೆ ಪ್ರಸಿದ್ಧ ಆಗಿದೆ null\n"
          ],
          "output_type": "stream"
        }
      ],
      "source": "# Test for sentence generation\nimport random\n\ntext \u003d None\nts \u003d [] \nsentence_finished \u003d False\n \nwhile not sentence_finished:\n    r \u003d random.random()\n    accumulator \u003d .0\n     \n    if len(model[text].keys()) \u003d\u003d 0:\n        break\n    for word in model[text].keys():\n        accumulator +\u003d model[text][word]\n \n        if accumulator \u003e\u003d r:\n            text \u003d word\n            ts.append(word)\n            break\n \n    if text is None:\n        sentence_finished \u003d True\n \nprint(\u0027 \u0027.join([t for t in ts if t]))\n",
      "metadata": {
        "pycharm": {
          "metadata": false,
          "name": "#%%\n",
          "is_executing": false
        }
      }
    },
    {
      "cell_type": "code",
      "execution_count": 6,
      "outputs": [
        {
          "name": "stdout",
          "text": [
            "[\u0027ನಿವ್ವಳ\u0027, \u0027ಜಾಲ\u0027, \u0027ಬಲೆ\u0027, \u0027ಕಲ್ಲಿ\u0027, \u0027ಐನು\u0027, \u0027ಕಳೆತವಿಲ್ಲದ\u0027, \u0027ಸಂಪಾದಿಸು\u0027, \u0027ಲಾಭಗಳಿಸು\u0027]\nUpdated: ಈ ಹಿಡಿಯೋಕೆ ಬಲೆ ಮಾಡಬೇಕು\nOld: ಈ ಹಿಡಿಯೋಕೆ net ಮಾಡಬೇಕು\n\n"
          ],
          "output_type": "stream"
        }
      ],
      "source": "sentence \u003d \"ಈ ಹಿಡಿಯೋಕೆ net ಮಾಡಬೇಕು\"\nupdated \u003d get_sentence(sentence, model, 2)\nprint(get_kannada_word(\"net\"))\nprint(\"Updated: %s\\nOld: %s\\n\" % (\" \".join(updated), sentence))",
      "metadata": {
        "pycharm": {
          "metadata": false,
          "name": "#%%\n",
          "is_executing": false
        }
      }
    }
  ],
  "metadata": {
    "language_info": {
      "codemirror_mode": {
        "name": "ipython",
        "version": 2
      },
      "file_extension": ".py",
      "mimetype": "text/x-python",
      "name": "python",
      "nbconvert_exporter": "python",
      "pygments_lexer": "ipython2",
      "version": "2.7.6"
    },
    "kernelspec": {
      "name": "python3",
      "language": "python",
      "display_name": "Python 3"
    },
    "stem_cell": {
      "cell_type": "raw",
      "source": "",
      "metadata": {
        "pycharm": {
          "metadata": false
        }
      }
    }
  },
  "nbformat": 4,
  "nbformat_minor": 0
}