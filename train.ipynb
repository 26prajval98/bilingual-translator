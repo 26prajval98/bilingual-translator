{
  "cells": [
    {
      "cell_type": "code",
      "execution_count": 1,
      "outputs": [],
      "source": "from nltk import trigrams\nfrom kannadautils import load_json\nimport json\nimport os\n",
      "metadata": {
        "pycharm": {
          "metadata": false,
          "name": "#%%\n",
          "is_executing": false
        }
      }
    },
    {
      "cell_type": "code",
      "execution_count": 2,
      "outputs": [],
      "source": "OUT \u003d \"data.json\"\nmodel \u003d load_json(os.getcwd(), OUT)\n",
      "metadata": {
        "pycharm": {
          "metadata": false,
          "name": "#%%\n",
          "is_executing": false
        }
      }
    },
    {
      "cell_type": "code",
      "execution_count": 3,
      "outputs": [
        {
          "name": "stdout",
          "text": [
            "1 Done\n",
            "2 Done\n",
            "3 Done\n",
            "4 Done\n",
            "5 Done\n",
            "6 Done\n",
            "7 Done\n",
            "8 Done\n",
            "9 Done\n",
            "10 Done\n",
            "11 Done\n12 Done\n13 Done\n14 Done\n"
          ],
          "output_type": "stream"
        }
      ],
      "source": "start \u003d 0\nsets \u003d 14\n\nfor i in range(start + sets):\n    f \u003d open(\"dataset \" + str(i+1) + \".txt\", \"r\", encoding\u003d\"utf-8\")\n    \n    for sentence in f.readlines():\n        sentence \u003d sentence.split(\" \")[:-1]\n        for w1, w2, w3 in trigrams(sentence, pad_right\u003dTrue, pad_left\u003dTrue):\n            model[(w1, w2)][w3] +\u003d 1\n    print(i+1, \"Done\")\n            ",
      "metadata": {
        "pycharm": {
          "metadata": false,
          "name": "#%%\n",
          "is_executing": false
        }
      }
    },
    {
      "cell_type": "code",
      "execution_count": 4,
      "outputs": [],
      "source": "try:\n    os.remove(OUT)\nexcept OSError:\n    pass\n\njson_model \u003d dict((\u0027:\u0027.join(map(str, list(k))), v) for k,v in model.items())\n\nwith open(OUT, \u0027a\u0027) as f:\n    json.dump(json_model, f)\n    ",
      "metadata": {
        "pycharm": {
          "metadata": false,
          "name": "#%%        \n",
          "is_executing": false
        }
      }
    }
  ],
  "metadata": {
    "language_info": {
      "codemirror_mode": {
        "name": "ipython",
        "version": 2
      },
      "file_extension": ".py",
      "mimetype": "text/x-python",
      "name": "python",
      "nbconvert_exporter": "python",
      "pygments_lexer": "ipython2",
      "version": "2.7.6"
    },
    "kernelspec": {
      "name": "python3",
      "language": "python",
      "display_name": "Python 3"
    },
    "stem_cell": {
      "cell_type": "raw",
      "source": "",
      "metadata": {
        "pycharm": {
          "metadata": false
        }
      }
    }
  },
  "nbformat": 4,
  "nbformat_minor": 0
}