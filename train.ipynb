{
  "cells": [
    {
      "cell_type": "code",
      "execution_count": 1,
      "outputs": [],
      "source": "from nltk import trigrams\nfrom kannadautils import load_json\nimport json\nimport os\nfrom collections import defaultdict\n",
      "metadata": {
        "pycharm": {
          "metadata": false,
          "name": "#%%\n",
          "is_executing": false
        }
      }
    },
    {
      "cell_type": "code",
      "execution_count": 2,
      "outputs": [],
      "source": "OUT \u003d \"data.json\"\nold_model \u003d load_json(os.getcwd(), OUT)\n\n",
      "metadata": {
        "pycharm": {
          "metadata": false,
          "name": "#%%\n",
          "is_executing": false
        }
      }
    },
    {
      "cell_type": "code",
      "execution_count": 3,
      "outputs": [],
      "source": "model \u003d defaultdict(lambda: defaultdict(lambda: 10 ** -20))\n\nfor w1_w2 in old_model:\n    for w3 in old_model[w1_w2]:\n        model[w1_w2][w3] \u003d old_model[w1_w2][w3]\n",
      "metadata": {
        "pycharm": {
          "metadata": false,
          "name": "#%%\n",
          "is_executing": false
        }
      }
    },
    {
      "cell_type": "code",
      "execution_count": 5,
      "outputs": [
        {
          "name": "stdout",
          "text": [
            "1 Done\n",
            "2 Done\n",
            "3 Done\n",
            "4 Done\n",
            "5 Done\n",
            "6 Done\n",
            "7 Done\n",
            "8 Done\n",
            "9 Done\n",
            "10 Done\n",
            "11 Done\n12 Done\n13 Done\n14 Done\n15 Done\n"
          ],
          "output_type": "stream"
        }
      ],
      "source": "start \u003d 1\nsets \u003d 15\n\n\nfor i in range(start, start + sets):\n    f \u003d open(\"dataset %d.txt\" % i, \"r\", encoding\u003d\"utf-8\")\n    \n    for sentence in f.readlines():\n        sentence \u003d sentence.split(\" \")[:-1]\n        if len(sentence) !\u003d 0:\n            for w1, w2, w3 in trigrams(sentence, pad_right\u003dTrue, pad_left\u003dTrue):\n                model[(w1, w2)][w3] +\u003d 1\n    print(i, \"Done\")\n            ",
      "metadata": {
        "pycharm": {
          "metadata": false,
          "name": "#%%\n",
          "is_executing": false
        }
      }
    },
    {
      "cell_type": "code",
      "execution_count": 6,
      "outputs": [
        {
          "name": "stdout",
          "text": [
            "dict_items([(\u0027ಸಲ್ಲದು\u0027, 1.0)])\n"
          ],
          "output_type": "stream"
        }
      ],
      "source": "print(model[(\"ಕುಬೇರ\", \"ಅಹಂಭಾವ\")].items())\n",
      "metadata": {
        "pycharm": {
          "metadata": false,
          "name": "#%%\n",
          "is_executing": false
        }
      }
    },
    {
      "cell_type": "code",
      "execution_count": 7,
      "outputs": [],
      "source": "try:\n    os.remove(OUT)\nexcept OSError:\n    pass\n\njson_model \u003d dict((\u0027:\u0027.join(map(str, list(k))), v) for k,v in model.items())\n\nwith open(OUT, \u0027a\u0027) as f:\n    json.dump(json_model, f)\n    ",
      "metadata": {
        "pycharm": {
          "metadata": false,
          "name": "#%%     \n",
          "is_executing": false
        }
      }
    }
  ],
  "metadata": {
    "kernelspec": {
      "display_name": "Python 3",
      "language": "python",
      "name": "python3"
    },
    "language_info": {
      "codemirror_mode": {
        "name": "ipython",
        "version": 3
      },
      "file_extension": ".py",
      "mimetype": "text/x-python",
      "name": "python",
      "nbconvert_exporter": "python",
      "pygments_lexer": "ipython3",
      "version": "3.7.3"
    },
    "stem_cell": {
      "cell_type": "raw",
      "source": "",
      "metadata": {
        "pycharm": {
          "metadata": false
        }
      }
    }
  },
  "nbformat": 4,
  "nbformat_minor": 1
}