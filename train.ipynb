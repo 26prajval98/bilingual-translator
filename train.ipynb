{
  "cells": [
    {
      "cell_type": "code",
      "execution_count": 48,
      "outputs": [],
      "source": "from nltk import trigrams\nfrom collections import defaultdict\n\n",
      "metadata": {
        "pycharm": {
          "metadata": false,
          "name": "#%%\n",
          "is_executing": false
        }
      }
    },
    {
      "cell_type": "code",
      "execution_count": 49,
      "outputs": [
        {
          "name": "stdout",
          "text": [
            "1  Done\n",
            "2  Done\n",
            "3  Done\n",
            "4  Done\n",
            "5  Done\n",
            "6  Done\n",
            "7  Done\n",
            "8  Done\n",
            "9  Done\n",
            "10  Done\n",
            "11  Done\n12  Done\n",
            "13  Done\n"
          ],
          "output_type": "stream"
        }
      ],
      "source": "model \u003d defaultdict(lambda: defaultdict(lambda: 0))\n\nsets \u003d 13\n\nfor i in range(13):\n    f \u003d open(\"dataset \" + str(i+1) + \".txt\", \"r\", encoding\u003d\"utf-8\")\n    \n    for sentence in f.readlines():\n        sentence \u003d sentence.split(\" \")[:-1]\n        for w1, w2, w3 in trigrams(sentence, pad_right\u003dTrue, pad_left\u003dTrue):\n            model[(w1, w2)][w3] +\u003d 1\n    \n    for w1_w2 in model:\n        total_count \u003d float(sum(model[w1_w2].values()))\n        for w3 in model[w1_w2]:\n            model[w1_w2][w3] /\u003d total_count\n    print(i+1, \" Done\")\n",
      "metadata": {
        "pycharm": {
          "metadata": false,
          "name": "#%%\n",
          "is_executing": false
        }
      }
    },
    {
      "cell_type": "code",
      "execution_count": 50,
      "outputs": [
        {
          "name": "stdout",
          "text": [
            "ಅಮ್ಮನವರ ಗುಡಿ ಚೆನ್ನಿಗರಾಯನ ಗುಡಿ ಮೊದಲಾದವುಗಳು ಇದ್ದು ಇವು ಎಲ್ಲವನ್ನೂ ಮೀರಿ ಮಧ್ಯದಲ್ಲಿ ಚೆನ್ನಕೇಶವ ಕಂಗೊಳಿಸುತ್ತದೆ\n"
          ],
          "output_type": "stream"
        }
      ],
      "source": "import random\n\ntext \u003d [None, None]\n \nsentence_finished \u003d False\n \nwhile not sentence_finished:\n    r \u003d random.random()\n    accumulator \u003d .0\n \n    for word in model[tuple(text[-2:])].keys():\n        accumulator +\u003d model[tuple(text[-2:])][word]\n \n        if accumulator \u003e\u003d r:\n            text.append(word)\n            break\n \n    if text[-2:] \u003d\u003d [None, None]:\n        sentence_finished \u003d True\n \nprint(\u0027 \u0027.join([t for t in text if t]))\n",
      "metadata": {
        "pycharm": {
          "metadata": false,
          "name": "#%%\n",
          "is_executing": false
        }
      }
    }
  ],
  "metadata": {
    "language_info": {
      "codemirror_mode": {
        "name": "ipython",
        "version": 2
      },
      "file_extension": ".py",
      "mimetype": "text/x-python",
      "name": "python",
      "nbconvert_exporter": "python",
      "pygments_lexer": "ipython2",
      "version": "2.7.6"
    },
    "kernelspec": {
      "name": "python3",
      "language": "python",
      "display_name": "Python 3"
    },
    "stem_cell": {
      "cell_type": "raw",
      "source": "",
      "metadata": {
        "pycharm": {
          "metadata": false
        }
      }
    }
  },
  "nbformat": 4,
  "nbformat_minor": 0
}