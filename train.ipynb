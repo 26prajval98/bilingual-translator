{
 "cells": [
  {
   "cell_type": "code",
   "execution_count": 14,
   "metadata": {
    "pycharm": {
     "is_executing": false,
     "metadata": false,
     "name": "#%%\n"
    }
   },
   "outputs": [],
   "source": [
    "from nltk import trigrams\n",
    "from kannadautils import load_json\n",
    "import json\n",
    "import os\n",
    "from collections import defaultdict\n"
   ]
  },
  {
   "cell_type": "code",
   "execution_count": 15,
   "metadata": {
    "pycharm": {
     "is_executing": false,
     "metadata": false,
     "name": "#%%\n"
    }
   },
   "outputs": [],
   "source": [
    "OUT = \"data.json\"\n",
    "old_model = load_json(os.getcwd(), OUT)\n",
    "\n"
   ]
  },
  {
   "cell_type": "code",
   "execution_count": 16,
   "metadata": {
    "pycharm": {
     "is_executing": false,
     "metadata": false,
     "name": "#%%\n"
    }
   },
   "outputs": [],
   "source": [
    "model = defaultdict(lambda: defaultdict(lambda: 0.2))\n",
    "\n",
    "for w1_w2 in old_model:\n",
    "    for w3 in old_model[w1_w2]:\n",
    "        model[w1_w2][w3] = old_model[w1_w2][w3]\n"
   ]
  },
  {
   "cell_type": "code",
   "execution_count": 17,
   "metadata": {
    "pycharm": {
     "is_executing": false,
     "metadata": false,
     "name": "#%%\n"
    }
   },
   "outputs": [
    {
     "name": "stdout",
     "output_type": "stream",
     "text": [
      "1 Done\n",
      "2 Done\n",
      "3 Done\n",
      "4 Done\n",
      "5 Done\n",
      "6 Done\n",
      "7 Done\n",
      "8 Done\n",
      "9 Done\n",
      "10 Done\n",
      "11 Done\n",
      "12 Done\n",
      "13 Done\n",
      "14 Done\n"
     ]
    }
   ],
   "source": [
    "start = 0\n",
    "sets = 14\n",
    "\n",
    "\n",
    "for i in range(start + sets):\n",
    "    f = open(\"dataset \" + str(i+1) + \".txt\", \"r\", encoding=\"utf-8\")\n",
    "    \n",
    "    for sentence in f.readlines():\n",
    "        sentence = sentence.split(\" \")[:-1]\n",
    "        if len(sentence) != 0:\n",
    "            for w1, w2, w3 in trigrams(sentence, pad_right=True, pad_left=True):\n",
    "                model[(w1, w2)][w3] += 1\n",
    "    print(i+1, \"Done\")\n",
    "            "
   ]
  },
  {
   "cell_type": "code",
   "execution_count": 18,
   "metadata": {
    "pycharm": {
     "is_executing": false,
     "metadata": false,
     "name": "#%%        \n"
    }
   },
   "outputs": [],
   "source": [
    "try:\n",
    "    os.remove(OUT)\n",
    "except OSError:\n",
    "    pass\n",
    "\n",
    "json_model = dict((':'.join(map(str, list(k))), v) for k,v in model.items())\n",
    "\n",
    "with open(OUT, 'a') as f:\n",
    "    json.dump(json_model, f)\n",
    "    "
   ]
  }
 ],
 "metadata": {
  "kernelspec": {
   "display_name": "Python 3",
   "language": "python",
   "name": "python3"
  },
  "language_info": {
   "codemirror_mode": {
    "name": "ipython",
    "version": 3
   },
   "file_extension": ".py",
   "mimetype": "text/x-python",
   "name": "python",
   "nbconvert_exporter": "python",
   "pygments_lexer": "ipython3",
   "version": "3.7.3"
  },
  "stem_cell": {
   "cell_type": "raw",
   "metadata": {
    "pycharm": {
     "metadata": false
    }
   },
   "source": ""
  }
 },
 "nbformat": 4,
 "nbformat_minor": 1
}
