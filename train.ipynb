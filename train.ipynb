{
  "cells": [
    {
      "cell_type": "code",
      "execution_count": 2,
      "outputs": [],
      "source": "from nltk import trigrams\nfrom kannadautils import load_json\nimport json\nimport os\n",
      "metadata": {
        "pycharm": {
          "metadata": false,
          "name": "#%%\n",
          "is_executing": false
        }
      }
    },
    {
      "cell_type": "code",
      "execution_count": 3,
      "outputs": [],
      "source": "OUT \u003d \"data.json\"\nmodel \u003d load_json(os.getcwd(), OUT)\n",
      "metadata": {
        "pycharm": {
          "metadata": false,
          "name": "#%%\n",
          "is_executing": false
        }
      }
    },
    {
      "cell_type": "code",
      "execution_count": 9,
      "outputs": [
        {
          "name": "stdout",
          "text": [
            "None None ಬಲಿತ\nNone ಬಲಿತ ಚೆನ್ನಾಗಿ\nಬಲಿತ ಚೆನ್ನಾಗಿ ಒಣಗಿಸಿ\nಚೆನ್ನಾಗಿ ಒಣಗಿಸಿ ತುಪ್ಪದಲ್ಲಿ\nಒಣಗಿಸಿ ತುಪ್ಪದಲ್ಲಿ ಹುರಿದು\nತುಪ್ಪದಲ್ಲಿ ಹುರಿದು ಚಟ್ನಿಪುಡಿ\nಹುರಿದು ಚಟ್ನಿಪುಡಿ ತಯಾರಿಸಿ\nಚಟ್ನಿಪುಡಿ ತಯಾರಿಸಿ ತಿಂದರೆ\nತಯಾರಿಸಿ ತಿಂದರೆ ಶರೀರಕ್ಕೆ\nತಿಂದರೆ ಶರೀರಕ್ಕೆ ಪೌಷ್ಠಿಕಾಂಶ\nಶರೀರಕ್ಕೆ ಪೌಷ್ಠಿಕಾಂಶ ದೊರಕುವುದು\nಪೌಷ್ಠಿಕಾಂಶ ದೊರಕುವುದು None\nದೊರಕುವುದು None None\n1 Done\nNone None ದಾಸ್ತಾನು\nNone ದಾಸ್ತಾನು ತಯಾರಿಕಾ\nದಾಸ್ತಾನು ತಯಾರಿಕಾ ಇರುವುದು\nತಯಾರಿಕಾ ಇರುವುದು ಎಲ್ಲ\nಇರುವುದು ಎಲ್ಲ ಉತ್ತಮ\nಎಲ್ಲ ಉತ್ತಮ None\nಉತ್ತಮ None None\n2 Done\nNone None ಲೆಕ್ಕಪರಿಶೋಧಕನು\nNone ಲೆಕ್ಕಪರಿಶೋಧಕನು ತನ್ನ\nಲೆಕ್ಕಪರಿಶೋಧಕನು ತನ್ನ ಕಾರ್ಯವನ್ನು\nತನ್ನ ಕಾರ್ಯವನ್ನು ಯಶಸ್ವಿಯಾಗಿ\nಕಾರ್ಯವನ್ನು ಯಶಸ್ವಿಯಾಗಿ ನಡೆಸಿಕೊಂಡು\nಯಶಸ್ವಿಯಾಗಿ ನಡೆಸಿಕೊಂಡು ಹೋಗುವಲ್ಲಿ\nನಡೆಸಿಕೊಂಡು ಹೋಗುವಲ್ಲಿ ಸುರಕ್ಷತೆಯನ್ನು\nಹೋಗುವಲ್ಲಿ ಸುರಕ್ಷತೆಯನ್ನು ಕಾಪಾಡಿಕೊಂಡು\nಸುರಕ್ಷತೆಯನ್ನು ಕಾಪಾಡಿಕೊಂಡು ಹೋಗಬೇಕೆ\nಕಾಪಾಡಿಕೊಂಡು ಹೋಗಬೇಕೆ ಮುಂಗೋಪಿತನಕ್ಕೆ\nಹೋಗಬೇಕೆ ಮುಂಗೋಪಿತನಕ್ಕೆ ಎಡೆ\nಮುಂಗೋಪಿತನಕ್ಕೆ ಎಡೆ ಮಾಡಿಕೊಡಬಾರದು\nಎಡೆ ಮಾಡಿಕೊಡಬಾರದು None\n",
            "ಮಾಡಿಕೊಡಬಾರದು None None\n3 Done\nNone None ಹೀಗೆ\nNone ಹೀಗೆ ಪತ್ರದ\nಹೀಗೆ ಪತ್ರದ ಯಾವ\nಪತ್ರದ ಯಾವ ಎಲ್ಲೆಲ್ಲಿ\nಯಾವ ಎಲ್ಲೆಲ್ಲಿ ಇರಬೇಕು\nಎಲ್ಲೆಲ್ಲಿ ಇರಬೇಕು ಎಂಬುದನ್ನು\nಇರಬೇಕು ಎಂಬುದನ್ನು ಗೊತ್ತುಪಡಿಸುವುದರಿಂದ\nಎಂಬುದನ್ನು ಗೊತ್ತುಪಡಿಸುವುದರಿಂದ ಇದರ\nಗೊತ್ತುಪಡಿಸುವುದರಿಂದ ಇದರ ಲೇಖಕ\nಇದರ ಲೇಖಕ ಅತಿಯಾದ\nಲೇಖಕ ಅತಿಯಾದ ಆಗಬೇಕು\nಅತಿಯಾದ ಆಗಬೇಕು ಎಂದು\nಆಗಬೇಕು ಎಂದು ಅಲ್ಲ\nಎಂದು ಅಲ್ಲ None\nಅಲ್ಲ None None\n4 Done\nNone None \u0027\nNone \u0027 \u0027\n\u0027 \u0027 ಇದ್ದೇವೆ\n\u0027 ಇದ್ದೇವೆ ಎಂದು\nಇದ್ದೇವೆ ಎಂದು ಇತರೇ\nಎಂದು ಇತರೇ ಮುಂದಾದರು\nಇತರೇ ಮುಂದಾದರು None\nಮುಂದಾದರು None None\n5 Done\n",
            "None None ಹತ್ತು\nNone ಹತ್ತು ಪೂರ್ಣ\nಹತ್ತು ಪೂರ್ಣ ಆದನು\nಪೂರ್ಣ ಆದನು None\nಆದನು None None\n6 Done\n",
            "None None ಕಳೆದ\nNone ಕಳೆದ ದಶಕಗಳಲ್ಲಿ\nಕಳೆದ ದಶಕಗಳಲ್ಲಿ ಈ\nದಶಕಗಳಲ್ಲಿ ಈ ಮೂಲ\nಈ ಮೂಲ ಅರಿಯಲು\nಮೂಲ ಅರಿಯಲು ಹಲವಾರು\nಅರಿಯಲು ಹಲವಾರು ಸಂಶೋಧನೆಗಳನ್ನು\nಹಲವಾರು ಸಂಶೋಧನೆಗಳನ್ನು ನಡೆಸಿದ್ದಾರೆ\nಸಂಶೋಧನೆಗಳನ್ನು ನಡೆಸಿದ್ದಾರೆ None\nನಡೆಸಿದ್ದಾರೆ None None\n7 Done\nNone None ದುಷ್ಪ್ರಯೋಜನಗಳು\nNone ದುಷ್ಪ್ರಯೋಜನಗಳು None\nದುಷ್ಪ್ರಯೋಜನಗಳು None None\n8 Done\nNone None ಕರ್ನಾಟಕದ\nNone ಕರ್ನಾಟಕದ ಆನಂದಶೆಟ್ಟಿ\nಕರ್ನಾಟಕದ ಆನಂದಶೆಟ್ಟಿ ವಂದನಾ\nಆನಂದಶೆಟ್ಟಿ ವಂದನಾ ರೀತಾ\nವಂದನಾ ರೀತಾ ರ\nರೀತಾ ರ ಬೆಳ್ಳಿ\nರ ಬೆಳ್ಳಿ ಪಡೆದರೆ\nಬೆಳ್ಳಿ ಪಡೆದರೆ ಏಂಜೆಲ್\nಪಡೆದರೆ ಏಂಜೆಲ್ ಬರಿಗೈಯಿಂದ\nಏಂಜೆಲ್ ಬರಿಗೈಯಿಂದ ಮರಳಿದರು\nಬರಿಗೈಯಿಂದ ಮರಳಿದರು None\nಮರಳಿದರು None None\n9 Done\n",
            "None None ಇಲ್ಲಿ\nNone ಇಲ್ಲಿ ವಿವರಿಸಿರುವ\nಇಲ್ಲಿ ವಿವರಿಸಿರುವ ವಿನ್ಯಾಸ\nವಿವರಿಸಿರುವ ವಿನ್ಯಾಸ \u0027\nವಿನ್ಯಾಸ \u0027 None\n\u0027 None None\n10 Done\nNone None ಒಂದೇ\nNone ಒಂದೇ ಉಳ್ಳ\nಒಂದೇ ಉಳ್ಳ ಕೋಣೆಗಳಲ್ಲಿ\nಉಳ್ಳ ಕೋಣೆಗಳಲ್ಲಿ ಇದು\nಕೋಣೆಗಳಲ್ಲಿ ಇದು ಇಡೀ\nಇದು ಇಡೀ ಅತ್ಯಂತ\nಇಡೀ ಅತ್ಯಂತ ಎಂದೂ\nಅತ್ಯಂತ ಎಂದೂ ಹೇಳಬಹುದು\nಎಂದೂ ಹೇಳಬಹುದು None\nಹೇಳಬಹುದು None None\n11 Done\nNone None ಕಟ್ಟಿದ\nNone ಕಟ್ಟಿದ ಮೂಗಿನ\nಕಟ್ಟಿದ ಮೂಗಿನ ದೆಸೆಯಿಂದ\nಮೂಗಿನ ದೆಸೆಯಿಂದ ಬಗ್ಗಿದಾಗ\nದೆಸೆಯಿಂದ ಬಗ್ಗಿದಾಗ ತೀವ್ರ\nಬಗ್ಗಿದಾಗ ತೀವ್ರ ಬೆಳಕು\nತೀವ್ರ ಬೆಳಕು ಸಹಿಸಲಾಗದು\nಬೆಳಕು ಸಹಿಸಲಾಗದು ಉಸಿರಾಟ\nಸಹಿಸಲಾಗದು ಉಸಿರಾಟ ಮಲಗಿದಾಗ\nಉಸಿರಾಟ ಮಲಗಿದಾಗ ತೊಂದರೆ\nಮಲಗಿದಾಗ ತೊಂದರೆ ಅಧಿಕ\nತೊಂದರೆ ಅಧಿಕ None\nಅಧಿಕ None None\n12 Done\nNone None ಹಾಸನವು\nNone ಹಾಸನವು ಮಲೆನಾಡ\nಹಾಸನವು ಮಲೆನಾಡ ಜಿಲ್ಲೆಗಳಲ್ಲಿ\nಮಲೆನಾಡ ಜಿಲ್ಲೆಗಳಲ್ಲಿ ಒಂದು\nಜಿಲ್ಲೆಗಳಲ್ಲಿ ಒಂದು ಆಗಿದ್ದು\nಒಂದು ಆಗಿದ್ದು ಇದನ್ನು\nಆಗಿದ್ದು ಇದನ್ನು ಹೊಯ್ಸಳ\nಇದನ್ನು ಹೊಯ್ಸಳ ಕದಂಬ\nಹೊಯ್ಸಳ ಕದಂಬ ಗಂಗರನ್ನು\nಕದಂಬ ಗಂಗರನ್ನು ಒಳಗೊಂಡಂತೆ\nಗಂಗರನ್ನು ಒಳಗೊಂಡಂತೆ ಹಲವು\nಒಳಗೊಂಡಂತೆ ಹಲವು ಆಳ್ವಿಕೆ\nಹಲವು ಆಳ್ವಿಕೆ ನಡೆಸಿವೆ\nಆಳ್ವಿಕೆ ನಡೆಸಿವೆ None\nನಡೆಸಿವೆ None None\n13 Done\nNone None ರಲ್ಲಿ\nNone ರಲ್ಲಿ ಅಧಿಕಾರಕ್ಕೆ\nರಲ್ಲಿ ಅಧಿಕಾರಕ್ಕೆ ಬಂದ\nಅಧಿಕಾರಕ್ಕೆ ಬಂದ ನಾಲ್ವಡಿ\nಬಂದ ನಾಲ್ವಡಿ ಕಾವೇರಿ\nನಾಲ್ವಡಿ ಕಾವೇರಿ ಅಡ್ಡಲಾಗಿ\nಕಾವೇರಿ ಅಡ್ಡಲಾಗಿ ಅಣೆಕಟ್ಟು\nಅಡ್ಡಲಾಗಿ ಅಣೆಕಟ್ಟು ಕಟ್ಟಿದರು\nಅಣೆಕಟ್ಟು ಕಟ್ಟಿದರು None\nಕಟ್ಟಿದರು None None\n14 Done\n"
          ],
          "output_type": "stream"
        }
      ],
      "source": "start \u003d 0\nsets \u003d 14\n\nfor i in range(start + sets):\n    f \u003d open(\"dataset \" + str(i+1) + \".txt\", \"r\", encoding\u003d\"utf-8\")\n    \n    for sentence in f.readlines():\n        sentence \u003d sentence.split(\" \")[:-1]\n        if len(sentence) \u003d\u003d 0:\n            continue\n        for w1, w2, w3 in trigrams(sentence, pad_right\u003dTrue, pad_left\u003dTrue):\n            model[(w1, w2)][w3] +\u003d 1\n    print(i+1, \"Done\")\n            ",
      "metadata": {
        "pycharm": {
          "metadata": false,
          "name": "#%%\n",
          "is_executing": false
        }
      }
    },
    {
      "cell_type": "code",
      "execution_count": 4,
      "outputs": [],
      "source": "try:\n    os.remove(OUT)\nexcept OSError:\n    pass\n\njson_model \u003d dict((\u0027:\u0027.join(map(str, list(k))), v) for k,v in model.items())\n\nwith open(OUT, \u0027a\u0027) as f:\n    json.dump(json_model, f)\n    ",
      "metadata": {
        "pycharm": {
          "metadata": false,
          "name": "#%%        \n",
          "is_executing": false
        }
      }
    }
  ],
  "metadata": {
    "language_info": {
      "codemirror_mode": {
        "name": "ipython",
        "version": 2
      },
      "file_extension": ".py",
      "mimetype": "text/x-python",
      "name": "python",
      "nbconvert_exporter": "python",
      "pygments_lexer": "ipython2",
      "version": "2.7.6"
    },
    "kernelspec": {
      "name": "python3",
      "language": "python",
      "display_name": "Python 3"
    },
    "stem_cell": {
      "cell_type": "raw",
      "source": "",
      "metadata": {
        "pycharm": {
          "metadata": false
        }
      }
    }
  },
  "nbformat": 4,
  "nbformat_minor": 0
}