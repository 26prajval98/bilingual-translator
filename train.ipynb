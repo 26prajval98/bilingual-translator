{
  "cells": [
    {
      "cell_type": "code",
      "execution_count": 4,
      "outputs": [],
      "source": "from nltk import trigrams\nfrom collections import defaultdict\n",
      "metadata": {
        "pycharm": {
          "metadata": false,
          "name": "#%%\n",
          "is_executing": false
        }
      }
    },
    {
      "cell_type": "code",
      "execution_count": null,
      "outputs": [],
      "source": "model \u003d defaultdict(lambda: defaultdict(lambda: 0))\n\nsentences \u003d []\n\nfor sentence in sentences:\n    for w1, w2, w3 in trigrams(sentence, pad_right\u003dTrue, pad_left\u003dTrue):\n        model[(w1, w2)][w3] +\u003d 1\n\nfor w1_w2 in model:\n    total_count \u003d float(sum(model[w1_w2].values()))\n    for w3 in model[w1_w2]:\n        model[w1_w2][w3] /\u003d total_count\n",
      "metadata": {
        "pycharm": {
          "metadata": false,
          "name": "#%%\n"
        }
      }
    },
    {
      "cell_type": "code",
      "execution_count": null,
      "outputs": [],
      "source": "import random\n\ntext \u003d [None, None]\n \nsentence_finished \u003d False\n \nwhile not sentence_finished:\n    r \u003d random.random()\n    accumulator \u003d .0\n \n    for word in model[tuple(text[-2:])].keys():\n        accumulator +\u003d model[tuple(text[-2:])][word]\n \n        if accumulator \u003e\u003d r:\n            text.append(word)\n            break\n \n    if text[-2:] \u003d\u003d [None, None]:\n        sentence_finished \u003d True\n \nprint(\u0027 \u0027.join([t for t in text if t]))\n",
      "metadata": {
        "pycharm": {
          "metadata": false,
          "name": "#%%\n"
        }
      }
    }
  ],
  "metadata": {
    "language_info": {
      "codemirror_mode": {
        "name": "ipython",
        "version": 2
      },
      "file_extension": ".py",
      "mimetype": "text/x-python",
      "name": "python",
      "nbconvert_exporter": "python",
      "pygments_lexer": "ipython2",
      "version": "2.7.6"
    },
    "kernelspec": {
      "name": "python3",
      "language": "python",
      "display_name": "Python 3"
    },
    "stem_cell": {
      "cell_type": "raw",
      "source": "",
      "metadata": {
        "pycharm": {
          "metadata": false
        }
      }
    }
  },
  "nbformat": 4,
  "nbformat_minor": 0
}