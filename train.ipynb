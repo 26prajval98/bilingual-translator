{
  "cells": [
    {
      "cell_type": "code",
      "execution_count": 1,
      "outputs": [],
      "source": "from nltk import trigrams\nfrom collections import defaultdict\n# import json\n# import os\n\n# OUT \u003d \"data.json\"\n",
      "metadata": {
        "pycharm": {
          "metadata": false,
          "name": "#%%\n",
          "is_executing": false
        }
      }
    },
    {
      "cell_type": "code",
      "execution_count": 2,
      "outputs": [],
      "source": "model \u003d defaultdict(lambda: defaultdict(lambda: 0.2))\n# t \u003d 0\n# if os.path.isfile(OUT):\n#     x \u003d open(OUT, \"r\", encoding\u003d\"utf-8\")\n#     old_model \u003d json.loads(x.read())\n#     t \u003d 1\n# else:\n#     old_model \u003d defaultdict(lambda: defaultdict(lambda: 0.2)) \n    ",
      "metadata": {
        "pycharm": {
          "metadata": false,
          "name": "#%%\n",
          "is_executing": false
        }
      }
    },
    {
      "cell_type": "code",
      "execution_count": 3,
      "outputs": [],
      "source": "\n# model \u003d old_model\n# if t \u003d\u003d 1:\n#     model \u003d defaultdict(lambda: defaultdict(lambda: 0.2)) \n#     for key in old_model:\n#         s \u003d str(key)\n#         t1, t2 \u003d map(eval, s[1:-1].split(\u0027,\u0027, 1))\n#         x \u003d (t1, t2)\n#         model[x] \u003d old_model[key]\n",
      "metadata": {
        "pycharm": {
          "metadata": false,
          "name": "#%%\n",
          "is_executing": false
        }
      }
    },
    {
      "cell_type": "code",
      "execution_count": 3,
      "outputs": [],
      "source": "start \u003d 0\nsets \u003d 13\n\nfor i in range(start + sets):\n    f \u003d open(\"dataset \" + str(i+1) + \".txt\", \"r\", encoding\u003d\"utf-8\")\n    \n    for sentence in f.readlines():\n        sentence \u003d sentence.split(\" \")[:-1]\n        for w1, w2, w3 in trigrams(sentence, pad_right\u003dTrue, pad_left\u003dTrue):\n            model[(w1, w2)][w3] +\u003d 1\n            ",
      "metadata": {
        "pycharm": {
          "metadata": false,
          "name": "#%%\n",
          "is_executing": false
        }
      }
    },
    {
      "cell_type": "code",
      "execution_count": 6,
      "outputs": [],
      "source": "# try:\n#     os.remove(OUT)\n# except OSError:\n#     pass\n# \n# json_model \u003d {str(x) : model[x] for x in model}\n# \n# with open(OUT, \u0027a\u0027) as f:\n#     json.dump(json_model, f)\n\n",
      "metadata": {
        "pycharm": {
          "metadata": false,
          "name": "#%%        \n",
          "is_executing": false
        }
      }
    },
    {
      "cell_type": "code",
      "execution_count": 4,
      "outputs": [],
      "source": "for w1_w2 in model:\n    total_count \u003d float(sum(model[w1_w2].values()))\n    for w3 in model[w1_w2]:\n        model[w1_w2][w3] /\u003d total_count\n",
      "metadata": {
        "pycharm": {
          "metadata": false,
          "name": "#%%\n",
          "is_executing": false
        }
      }
    },
    {
      "cell_type": "code",
      "execution_count": 10,
      "outputs": [
        {
          "name": "stdout",
          "text": [
            "ಸರಳವಾದ ಕೂಡುವ ಮತ್ತು ಕಳೆಯುವ ಲೆಕ್ಕ ತಪ್ಪು ಮತ್ತು ಮೋಸಗಳನ್ನು ತಡೆಗಟ್ಟುವುದು ನಮೂದು ದ್ವಿ ಪರಿವರ್ತಿಸುವುದು\n"
          ],
          "output_type": "stream"
        }
      ],
      "source": "import random\n\ntext \u003d [\"ಇದು\", \"ನದಿ\"]\n \nsentence_finished \u003d False\n \nwhile not sentence_finished:\n    r \u003d random.random()\n    accumulator \u003d .0\n     \n    if len(model[tuple(text[-2:])].keys()) \u003d\u003d 0:\n        break\n    for word in model[tuple(text[-2:])].keys():\n        accumulator +\u003d model[tuple(text[-2:])][word]\n \n        if accumulator \u003e\u003d r:\n            text.append(word)\n            break\n \n    if text[-2:] \u003d\u003d [None, None]:\n        sentence_finished \u003d True\n \nprint(\u0027 \u0027.join([t for t in text if t]))\n",
      "metadata": {
        "pycharm": {
          "metadata": false,
          "name": "#%%\n",
          "is_executing": false
        }
      }
    },
    {
      "cell_type": "code",
      "execution_count": 11,
      "outputs": [
        {
          "name": "stdout",
          "text": [
            "[\u0027ಏರಿ\u0027, \u0027ದಡ\u0027, \u0027ತಿಟ್ಟು\u0027, \u0027ಇಳಿಜಾರು\u0027, \u0027ಅವಲಂಬಿಸು\u0027, \u0027ಬ್ಯಾಂಕ್\u0027, \u0027ಕರೆ\u0027, \u0027ಬ್ಯಾಂಕು\u0027]\n"
          ],
          "output_type": "stream"
        }
      ],
      "source": "from dictionary import *\n\nsentence \u003d \"\"\nsentence_array \u003d sentence.split(\" \")\n\nidx, word \u003d return_english(sentence)\n\nif idx !\u003d -1:\n    words \u003d get_kannada_word(word)\n    \n    get_max_prob()\n",
      "metadata": {
        "pycharm": {
          "metadata": false,
          "name": "#%%\n",
          "is_executing": false
        }
      }
    }
  ],
  "metadata": {
    "language_info": {
      "codemirror_mode": {
        "name": "ipython",
        "version": 2
      },
      "file_extension": ".py",
      "mimetype": "text/x-python",
      "name": "python",
      "nbconvert_exporter": "python",
      "pygments_lexer": "ipython2",
      "version": "2.7.6"
    },
    "kernelspec": {
      "name": "python3",
      "language": "python",
      "display_name": "Python 3"
    },
    "stem_cell": {
      "cell_type": "raw",
      "source": "",
      "metadata": {
        "pycharm": {
          "metadata": false
        }
      }
    }
  },
  "nbformat": 4,
  "nbformat_minor": 0
}