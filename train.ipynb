{
  "cells": [
    {
      "cell_type": "code",
      "execution_count": 9,
      "metadata": {
        "pycharm": {
          "is_executing": false,
          "metadata": false,
          "name": "#%%\n"
        }
      },
      "outputs": [],
      "source": [
        "from nltk import trigrams\n",
        "from kannadautils import load_json\n",
        "import json\n",
        "import os\n",
        "from collections import defaultdict\n"
      ]
    },
    {
      "cell_type": "code",
      "execution_count": 10,
      "metadata": {
        "pycharm": {
          "is_executing": false,
          "metadata": false,
          "name": "#%%\n"
        }
      },
      "outputs": [],
      "source": [
        "OUT \u003d \"data.json\"\n",
        "old_model \u003d load_json(os.getcwd(), OUT)\n",
        "\n"
      ]
    },
    {
      "cell_type": "code",
      "execution_count": 11,
      "metadata": {
        "pycharm": {
          "is_executing": false,
          "metadata": false,
          "name": "#%%\n"
        }
      },
      "outputs": [],
      "source": "model \u003d defaultdict(lambda: defaultdict(lambda: 10 ** -20))\n\nfor w1_w2 in old_model:\n    for w3 in old_model[w1_w2]:\n        model[w1_w2][w3] \u003d old_model[w1_w2][w3]\n"
    },
    {
      "cell_type": "code",
      "execution_count": 12,
      "metadata": {
        "pycharm": {
          "is_executing": false,
          "metadata": false,
          "name": "#%%\n"
        }
      },
      "outputs": [
        {
          "name": "stdout",
          "text": [
            "16 Done\n"
          ],
          "output_type": "stream"
        }
      ],
      "source": "start \u003d 16\nsets \u003d 1\n\n\nfor i in range(start, start + sets):\n    f \u003d open(\"dataset %d.txt\" % i, \"r\", encoding\u003d\"utf-8\")\n    \n    for sentence in f.readlines():\n        sentence \u003d sentence.split(\" \")[:-1]\n        if len(sentence) !\u003d 0:\n            for w1, w2, w3 in trigrams(sentence, pad_right\u003dTrue, pad_left\u003dTrue):\n                model[(w1, w2)][w3] +\u003d 1\n    print(i, \"Done\")\n            "
    },
    {
      "cell_type": "code",
      "execution_count": 13,
      "metadata": {
        "pycharm": {
          "is_executing": false,
          "metadata": false,
          "name": "#%%\n"
        }
      },
      "outputs": [
        {
          "name": "stdout",
          "text": [
            "dict_items([(\u0027ಸಲ್ಲದು\u0027, 1.0)])\n"
          ],
          "output_type": "stream"
        }
      ],
      "source": "print(model[(\"ಕುಬೇರ\", \"ಅಹಂಭಾವ\")].items())\n"
    },
    {
      "cell_type": "code",
      "execution_count": 14,
      "outputs": [],
      "source": "try:\n    os.remove(OUT)\nexcept OSError:\n    pass\n\njson_model \u003d dict((\u0027:\u0027.join(map(str, list(k))), v) for k,v in model.items())\n\nwith open(OUT, \u0027a\u0027) as f:\n    json.dump(json_model, f)\n    ",
      "metadata": {
        "pycharm": {
          "metadata": false,
          "name": "#%%     \n",
          "is_executing": false
        }
      }
    }
  ],
  "metadata": {
    "kernelspec": {
      "display_name": "Python 3",
      "language": "python",
      "name": "python3"
    },
    "language_info": {
      "codemirror_mode": {
        "name": "ipython",
        "version": 3
      },
      "file_extension": ".py",
      "mimetype": "text/x-python",
      "name": "python",
      "nbconvert_exporter": "python",
      "pygments_lexer": "ipython3",
      "version": "3.7.3"
    },
    "stem_cell": {
      "cell_type": "raw",
      "metadata": {
        "pycharm": {
          "metadata": false
        }
      },
      "source": ""
    }
  },
  "nbformat": 4,
  "nbformat_minor": 1
}