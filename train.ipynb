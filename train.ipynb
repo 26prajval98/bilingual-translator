{
  "cells": [
    {
      "cell_type": "code",
      "execution_count": 11,
      "outputs": [],
      "source": "from nltk import trigrams\nfrom collections import defaultdict\nimport json\nimport os\n\nOUT \u003d \"data.json\"\n",
      "metadata": {
        "pycharm": {
          "metadata": false,
          "name": "#%%\n",
          "is_executing": false
        }
      }
    },
    {
      "cell_type": "code",
      "execution_count": 14,
      "outputs": [],
      "source": "t \u003d 0\nif os.path.isfile(OUT):\n    x \u003d open(OUT, \"r\", encoding\u003d\"utf-8\")\n    old_model \u003d json.loads(x.read())\n    t \u003d 1\nelse:\n    old_model \u003d defaultdict(lambda: defaultdict(lambda: 0.2)) \n    ",
      "metadata": {
        "pycharm": {
          "metadata": false,
          "name": "#%%\n",
          "is_executing": false
        }
      }
    },
    {
      "cell_type": "code",
      "execution_count": 26,
      "outputs": [
        {
          "traceback": [
            "Traceback \u001b[1;36m(most recent call last)\u001b[0m:\n",
            "  File \u001b[0;32m\"C:\\Users\\appa_\\Anaconda3\\envs\\kannada-rocks\\lib\\site-packages\\IPython\\core\\interactiveshell.py\"\u001b[0m, line \u001b[0;32m3296\u001b[0m, in \u001b[0;35mrun_code\u001b[0m\n    exec(code_obj, self.user_global_ns, self.user_ns)\n",
            "\u001b[1;36m  File \u001b[1;32m\"\u003cipython-input-26-7139bfa637b3\u003e\"\u001b[1;36m, line \u001b[1;32m7\u001b[1;36m, in \u001b[1;35m\u003cmodule\u003e\u001b[1;36m\u001b[0m\n\u001b[1;33m    t1, t2 \u003d map(eval, s[1:-1].split(\u0027,\u0027, 1))\u001b[0m\n",
            "\u001b[1;36m  File \u001b[1;32m\"\u003cstring\u003e\"\u001b[1;36m, line \u001b[1;32m1\u001b[0m\n\u001b[1;33m    \u0027ಕೊಳ್ಳಲಾಯಿತು\u001b[0m\n\u001b[1;37m               ^\u001b[0m\n\u001b[1;31mSyntaxError\u001b[0m\u001b[1;31m:\u001b[0m EOL while scanning string literal\n"
          ],
          "ename": "SyntaxError",
          "evalue": "EOL while scanning string literal (\u003cstring\u003e, line 1)",
          "output_type": "error"
        }
      ],
      "source": "\nmodel \u003d old_model\nif t \u003d\u003d 1:\n    model \u003d defaultdict(lambda: defaultdict(lambda: 0.2)) \n    for key in old_model:\n        s \u003d str(key)\n        t1, t2 \u003d map(eval, s[1:-1].split(\u0027,\u0027, 1))\n        x \u003d (t1, t2)\n        model[x] \u003d old_model[key]\n",
      "metadata": {
        "pycharm": {
          "metadata": false,
          "name": "#%%\n",
          "is_executing": false
        }
      }
    },
    {
      "cell_type": "code",
      "execution_count": 9,
      "outputs": [
        {
          "traceback": [
            "\u001b[1;31m---------------------------------------------------------------------------\u001b[0m",
            "\u001b[1;31mKeyError\u001b[0m                                  Traceback (most recent call last)",
            "\u001b[1;32m\u003cipython-input-9-6605b34b8cf5\u003e\u001b[0m in \u001b[0;36m\u003cmodule\u003e\u001b[1;34m\u001b[0m\n\u001b[0;32m      8\u001b[0m         \u001b[0msentence\u001b[0m \u001b[1;33m\u003d\u001b[0m \u001b[0msentence\u001b[0m\u001b[1;33m.\u001b[0m\u001b[0msplit\u001b[0m\u001b[1;33m(\u001b[0m\u001b[1;34m\" \"\u001b[0m\u001b[1;33m)\u001b[0m\u001b[1;33m[\u001b[0m\u001b[1;33m:\u001b[0m\u001b[1;33m-\u001b[0m\u001b[1;36m1\u001b[0m\u001b[1;33m]\u001b[0m\u001b[1;33m\u001b[0m\u001b[1;33m\u001b[0m\u001b[0m\n\u001b[0;32m      9\u001b[0m         \u001b[1;32mfor\u001b[0m \u001b[0mw1\u001b[0m\u001b[1;33m,\u001b[0m \u001b[0mw2\u001b[0m\u001b[1;33m,\u001b[0m \u001b[0mw3\u001b[0m \u001b[1;32min\u001b[0m \u001b[0mtrigrams\u001b[0m\u001b[1;33m(\u001b[0m\u001b[0msentence\u001b[0m\u001b[1;33m,\u001b[0m \u001b[0mpad_right\u001b[0m\u001b[1;33m\u003d\u001b[0m\u001b[1;32mTrue\u001b[0m\u001b[1;33m,\u001b[0m \u001b[0mpad_left\u001b[0m\u001b[1;33m\u003d\u001b[0m\u001b[1;32mTrue\u001b[0m\u001b[1;33m)\u001b[0m\u001b[1;33m:\u001b[0m\u001b[1;33m\u001b[0m\u001b[1;33m\u001b[0m\u001b[0m\n\u001b[1;32m---\u003e 10\u001b[1;33m             \u001b[0mmodel\u001b[0m\u001b[1;33m[\u001b[0m\u001b[1;33m(\u001b[0m\u001b[0mw1\u001b[0m\u001b[1;33m,\u001b[0m \u001b[0mw2\u001b[0m\u001b[1;33m)\u001b[0m\u001b[1;33m]\u001b[0m\u001b[1;33m[\u001b[0m\u001b[0mw3\u001b[0m\u001b[1;33m]\u001b[0m \u001b[1;33m+\u003d\u001b[0m \u001b[1;36m1\u001b[0m\u001b[1;33m\u001b[0m\u001b[1;33m\u001b[0m\u001b[0m\n\u001b[0m\u001b[0;32m     11\u001b[0m \u001b[1;33m\u001b[0m\u001b[0m\n",
            "\u001b[1;31mKeyError\u001b[0m: (None, None)"
          ],
          "ename": "KeyError",
          "evalue": "(None, None)",
          "output_type": "error"
        }
      ],
      "source": "start \u003d 0\nsets \u003d 13\n\nfor i in range(start + sets):\n    f \u003d open(\"dataset \" + str(i+1) + \".txt\", \"r\", encoding\u003d\"utf-8\")\n    \n    for sentence in f.readlines():\n        sentence \u003d sentence.split(\" \")[:-1]\n        for w1, w2, w3 in trigrams(sentence, pad_right\u003dTrue, pad_left\u003dTrue):\n            model[(w1, w2)][w3] +\u003d 1\n            ",
      "metadata": {
        "pycharm": {
          "metadata": false,
          "name": "#%%\n",
          "is_executing": false
        }
      }
    },
    {
      "cell_type": "code",
      "execution_count": 6,
      "outputs": [],
      "source": "try:\n    os.remove(OUT)\nexcept OSError:\n    pass\n\njson_model \u003d {str(x) : model[x] for x in model}\n\nwith open(OUT, \u0027a\u0027) as f:\n    json.dump(json_model, f)\n\n",
      "metadata": {
        "pycharm": {
          "metadata": false,
          "name": "#%%        \n",
          "is_executing": false
        }
      }
    },
    {
      "cell_type": "code",
      "execution_count": 7,
      "outputs": [],
      "source": "for w1_w2 in model:\n    total_count \u003d float(sum(model[w1_w2].values()))\n    for w3 in model[w1_w2]:\n        model[w1_w2][w3] /\u003d total_count\n",
      "metadata": {
        "pycharm": {
          "metadata": false,
          "name": "#%%\n",
          "is_executing": false
        }
      }
    },
    {
      "cell_type": "code",
      "execution_count": 8,
      "outputs": [
        {
          "name": "stdout",
          "text": [
            "ತನಿಖೆ ಎಂದರೆ ಸಂಸ್ಥೆಯ ಹಣಕಾಸಿನ ವ್ಯವಹಾರಗಳನ್ನು ಮತ್ತು ಅವುಗಳಿಂದ ವ್ಯಕ್ತವಾಗುವ ಹಣಕಾಸಿನ ಸ್ಥಿತಿಗತಿಯನ್ನು ಕಂಡುಹಿಡಿಯಲು ಮತ್ತು ಅವುಗಳ ವರದಿ ಸಲ್ಲಿಸಲು ಲೆಕ್ಕದ ಪುಸ್ತಕಗಳನ್ನು ಲೆಕ್ಕಪತ್ರಗಳನ್ನು ಮತ್ತು ಜಮಾ ಹಾಗೂ ಖರ್ಚಿನ ಪಾವತಿಗಳನ್ನು ಕೂಲಂಕುಷವಾಗಿ ಪರಿಶೀಲಿಸುವುದೇ ಲೆಕ್ಕ ಆಗಿದೆ\n"
          ],
          "output_type": "stream"
        }
      ],
      "source": "import random\n\ntext \u003d [None, None]\n \nsentence_finished \u003d False\n \nwhile not sentence_finished:\n    r \u003d random.random()\n    accumulator \u003d .0\n \n    for word in model[tuple(text[-2:])].keys():\n        accumulator +\u003d model[tuple(text[-2:])][word]\n \n        if accumulator \u003e\u003d r:\n            text.append(word)\n            break\n \n    if text[-2:] \u003d\u003d [None, None]:\n        sentence_finished \u003d True\n \nprint(\u0027 \u0027.join([t for t in text if t]))\n",
      "metadata": {
        "pycharm": {
          "metadata": false,
          "name": "#%%\n",
          "is_executing": false
        }
      }
    }
  ],
  "metadata": {
    "language_info": {
      "codemirror_mode": {
        "name": "ipython",
        "version": 2
      },
      "file_extension": ".py",
      "mimetype": "text/x-python",
      "name": "python",
      "nbconvert_exporter": "python",
      "pygments_lexer": "ipython2",
      "version": "2.7.6"
    },
    "kernelspec": {
      "name": "python3",
      "language": "python",
      "display_name": "Python 3"
    },
    "stem_cell": {
      "cell_type": "raw",
      "source": "",
      "metadata": {
        "pycharm": {
          "metadata": false
        }
      }
    }
  },
  "nbformat": 4,
  "nbformat_minor": 0
}